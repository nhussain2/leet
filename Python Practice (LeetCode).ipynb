{
 "cells": [
  {
   "cell_type": "markdown",
   "metadata": {},
   "source": [
    "## LeetCode Python Practice Questions:\n",
    "--- \n",
    "\n",
    "Compilation of LeetCode Interview Problems and their solutions.<br>\n",
    "### Easy Problems:\n"
   ]
  },
  {
   "cell_type": "markdown",
   "metadata": {},
   "source": [
    "# Arrays"
   ]
  },
  {
   "cell_type": "code",
   "execution_count": 18,
   "metadata": {},
   "outputs": [
    {
     "name": "stdout",
     "output_type": "stream",
     "text": [
      "Requirement already satisfied: ipython-autotime in c:\\users\\13128\\anaconda3\\lib\\site-packages (0.1)\n",
      "Note: you may need to restart the kernel to use updated packages.\n"
     ]
    }
   ],
   "source": [
    "pip install ipython-autotime"
   ]
  },
  {
   "cell_type": "code",
   "execution_count": 5,
   "metadata": {},
   "outputs": [],
   "source": [
    "from typing import List\n",
    "%load_ext autotime"
   ]
  },
  {
   "cell_type": "markdown",
   "metadata": {},
   "source": [
    "### 1. Remove Duplicates from a Sorted Array:\n",
    "Given a sorted array nums, remove the duplicates in-place such that each element appear only once and return the new length.\n",
    "\n",
    "Do not allocate extra space for another array, you must do this by modifying the input array in-place with O(1) extra memory.\n",
    "\n",
    "#### Example:\n",
    "```\n",
    "Given nums = [1,1,2],\n",
    "Your function should return length = 2, with the first two elements of nums being 1 and 2 respectively.\n",
    "It doesn't matter what you leave beyond the returned length.\n",
    "```\n",
    "\n",
    "#### Solution:\n",
    "```python\n",
    "def removeDuplicates(self, nums: List[int]) -> int:\n",
    "    if len(nums) < 2:\n",
    "        return len(nums)\n",
    "    current = 0\n",
    "    for next in range(1, len(nums)):\n",
    "        if nums[next] != nums[current]:\n",
    "            current += 1\n",
    "            nums[current] = nums[next]     \n",
    "    return current + 1\n",
    "```\n",
    "\n"
   ]
  },
  {
   "cell_type": "code",
   "execution_count": 20,
   "metadata": {},
   "outputs": [
    {
     "name": "stdout",
     "output_type": "stream",
     "text": [
      "time: 1.99 ms\n"
     ]
    }
   ],
   "source": [
    "def removeDuplicates(self, nums: List[int]) -> int:\n",
    "    \n",
    "    # Case for if there is only one unique element\n",
    "    if len(nums) < 2:\n",
    "        return len(nums)\n",
    "    \n",
    "    current = 0\n",
    "    \n",
    "    # Otherwise ... go through numbers and check for duplicates\n",
    "    for next in range(1, len(nums)):\n",
    "        if nums[next] != nums[current]:\n",
    "        # if the next number is unequal to current number,\n",
    "        # increment the current count (unique elements)\n",
    "            current += 1\n",
    "            nums[current] = nums[next] \n",
    "        # make the current number the next to continue onwards\n",
    "        # in the loop\n",
    "\n",
    "    return current + 1"
   ]
  },
  {
   "cell_type": "markdown",
   "metadata": {},
   "source": [
    "### 2. Best Time to Buy and Sell Stock II\n",
    "Say you have an array prices for which the ith element is the price of a given stock on day <i>i</i>.\n",
    "\n",
    "Design an algorithm to find the maximum profit. You may complete as many transactions as you like (i.e., buy one and sell one share of the stock multiple times).\n",
    "\n",
    "<b>Note</b>: You may not engage in multiple transactions at the same time (i.e., you must sell the stock before you buy again).\n",
    "\n",
    "#### Example:\n",
    "```\n",
    "Input: [7,1,5,3,6,4]\n",
    "Output: 7\n",
    "Explanation: Buy on day 2 (price = 1) and sell on day 3 (price = 5), profit = 5-1 = 4. Then buy on day 4 (price = 3) and sell on day 5 (price = 6), profit = 6-3 = 3.\n",
    "```\n",
    "#### Solution:\n",
    "```python\n",
    "def maxProfit(self, prices: List[int]) -> int:\n",
    "        max_profit = 0 \n",
    "        for i in range(1, len(prices)):\n",
    "            if(prices[i]>prices[i-1]):\n",
    "                max_profit += prices[i] - prices[i-1]\n",
    "        return max_profit\n",
    "```"
   ]
  },
  {
   "cell_type": "code",
   "execution_count": 17,
   "metadata": {},
   "outputs": [
    {
     "name": "stdout",
     "output_type": "stream",
     "text": [
      "time: 1.99 ms\n"
     ]
    }
   ],
   "source": [
    "def maxProfit(self, prices: List[int]) -> int:\n",
    "        max_profit = 0 \n",
    "        # initialize max_profit as 0, and then iterate through the list \n",
    "        for i in range(1, len(prices)):\n",
    "            # in the list, if the price is greater than the previous then calculate the diff\n",
    "            # ie. the profit and then append it to the total profit (max_profit)\n",
    "            if(prices[i]>prices[i-1]):\n",
    "                max_profit += prices[i] - prices[i-1]\n",
    "        return max_profit"
   ]
  },
  {
   "cell_type": "markdown",
   "metadata": {},
   "source": [
    "### 3. Rotate Array\n",
    "Given an array, rotate the array to the right by k steps, where k is non-negative.\n",
    "\n",
    "#### Example:\n",
    "```\n",
    "Input: nums = [1,2,3,4,5,6,7], k = 3\n",
    "Output: [5,6,7,1,2,3,4]\n",
    "Explanation:\n",
    "rotate 1 steps to the right: [7,1,2,3,4,5,6]\n",
    "rotate 2 steps to the right: [6,7,1,2,3,4,5]\n",
    "rotate 3 steps to the right: [5,6,7,1,2,3,4]\n",
    "```\n",
    "#### Solution:\n",
    "```python\n",
    "def rotate(self, nums: List[int], k: int) -> None:\n",
    "    n = len(nums)\n",
    "    nums[:] = nums[n-k:] + nums[:n-k]\n",
    "```"
   ]
  },
  {
   "cell_type": "code",
   "execution_count": 21,
   "metadata": {},
   "outputs": [
    {
     "name": "stdout",
     "output_type": "stream",
     "text": [
      "time: 997 µs\n"
     ]
    }
   ],
   "source": [
    "def rotate(self, nums: List[int], k: int) -> None:\n",
    "    n = len(nums)\n",
    "    nums[:] = nums[n-k:] + nums[:n-k]"
   ]
  },
  {
   "cell_type": "markdown",
   "metadata": {},
   "source": [
    "### 4. Contains Duplicate\n",
    "Given an array of integers, find if the array contains any duplicates.\n",
    "\n",
    "Your function should return true if any value appears at least twice in the array, and it should return false if every element is distinct."
   ]
  },
  {
   "cell_type": "code",
   "execution_count": null,
   "metadata": {},
   "outputs": [],
   "source": []
  },
  {
   "cell_type": "code",
   "execution_count": null,
   "metadata": {},
   "outputs": [],
   "source": []
  },
  {
   "cell_type": "code",
   "execution_count": null,
   "metadata": {},
   "outputs": [],
   "source": []
  },
  {
   "cell_type": "code",
   "execution_count": null,
   "metadata": {},
   "outputs": [],
   "source": []
  },
  {
   "cell_type": "code",
   "execution_count": null,
   "metadata": {},
   "outputs": [],
   "source": []
  },
  {
   "cell_type": "code",
   "execution_count": null,
   "metadata": {},
   "outputs": [],
   "source": []
  },
  {
   "cell_type": "code",
   "execution_count": null,
   "metadata": {},
   "outputs": [],
   "source": []
  },
  {
   "cell_type": "code",
   "execution_count": null,
   "metadata": {},
   "outputs": [],
   "source": []
  },
  {
   "cell_type": "code",
   "execution_count": null,
   "metadata": {},
   "outputs": [],
   "source": []
  },
  {
   "cell_type": "code",
   "execution_count": null,
   "metadata": {},
   "outputs": [],
   "source": []
  },
  {
   "cell_type": "code",
   "execution_count": null,
   "metadata": {},
   "outputs": [],
   "source": []
  },
  {
   "cell_type": "code",
   "execution_count": null,
   "metadata": {},
   "outputs": [],
   "source": []
  },
  {
   "cell_type": "code",
   "execution_count": null,
   "metadata": {
    "collapsed": true
   },
   "outputs": [],
   "source": []
  }
 ],
 "metadata": {
  "kernelspec": {
   "display_name": "Python 3",
   "language": "python",
   "name": "python3"
  },
  "language_info": {
   "codemirror_mode": {
    "name": "ipython",
    "version": 3
   },
   "file_extension": ".py",
   "mimetype": "text/x-python",
   "name": "python",
   "nbconvert_exporter": "python",
   "pygments_lexer": "ipython3",
   "version": "3.7.4"
  }
 },
 "nbformat": 4,
 "nbformat_minor": 2
}
