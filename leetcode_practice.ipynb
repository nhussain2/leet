{
 "cells": [
  {
   "cell_type": "markdown",
   "metadata": {},
   "source": [
    "## LeetCode Python Practice Questions:\n",
    "--- \n",
    "\n",
    "Compilation of LeetCode Interview Problems and their solutions.<br>\n",
    "\n",
    "## Contents:\n",
    "\n",
    "### [Arrays](#arrays)\n",
    "1. [Remove Duplicates](#rmduplicates) <br>\n",
    "2. [Buy and Sell Stocks](#stocks) <br>\n",
    "3. [Rotate Array](#rotatearr) <br>\n",
    "4. [Contains Duplicate](#containsdup)<br>\n",
    "5. [Single Number](#singnum)<br>\n",
    "6. [Intersection of Two Arrays](#intersecttwo)<br>\n",
    "7. [Plus One](#plusone)<br>\n",
    "8. [Move Zeroes](#movezeroes)<br>\n",
    "9. [Valid Sudoku](#validsudoku) NEED TO COMPLETE!<br>\n",
    "10. [Rotate Image](#rotateimage) NEED TO COMPLETE! <br>\n",
    "\n",
    "\n",
    "### Easy Problems:\n"
   ]
  },
  {
   "cell_type": "markdown",
   "metadata": {},
   "source": [
    "# Arrays\n",
    "<a id=\"arrays\"></a>"
   ]
  },
  {
   "cell_type": "code",
   "execution_count": 3,
   "metadata": {},
   "outputs": [
    {
     "name": "stdout",
     "output_type": "stream",
     "text": [
      "Collecting ipython-autotime\n",
      "  Downloading ipython-autotime-0.1.tar.bz2 (1.2 kB)\n",
      "Building wheels for collected packages: ipython-autotime\n",
      "  Building wheel for ipython-autotime (setup.py) ... \u001b[?25ldone\n",
      "\u001b[?25h  Created wheel for ipython-autotime: filename=ipython_autotime-0.1-py3-none-any.whl size=1830 sha256=8b755bd09a8b900d04a730a930338f130d0d6c0edf12abcd2a387ad33b4969be\n",
      "  Stored in directory: /Users/naveedhussain/Library/Caches/pip/wheels/65/56/4a/4b967e4b9b62bd9d8d7ca789bba648c702d705487f28845bb2\n",
      "Successfully built ipython-autotime\n",
      "Installing collected packages: ipython-autotime\n",
      "Successfully installed ipython-autotime-0.1\n",
      "Note: you may need to restart the kernel to use updated packages.\n"
     ]
    }
   ],
   "source": [
    "pip install ipython-autotime"
   ]
  },
  {
   "cell_type": "code",
   "execution_count": 4,
   "metadata": {},
   "outputs": [],
   "source": [
    "from typing import List"
   ]
  },
  {
   "cell_type": "markdown",
   "metadata": {},
   "source": [
    "<a id=\"rmduplicates\"></a>\n",
    "### 1. Remove Duplicates from a Sorted Array:\n",
    "Given a sorted array nums, remove the duplicates in-place such that each element appear only once and return the new length.\n",
    "\n",
    "#### Solution:\n",
    "```python\n",
    "def removeDuplicates(self, nums: List[int]) -> int:\n",
    "    if len(nums) < 2:\n",
    "        return len(nums)\n",
    "    current = 0\n",
    "    for next in range(1, len(nums)):\n",
    "        if nums[next] != nums[current]:\n",
    "            current += 1\n",
    "            nums[current] = nums[next]     \n",
    "    return current + 1\n",
    "```"
   ]
  },
  {
   "cell_type": "code",
   "execution_count": 4,
   "metadata": {},
   "outputs": [
    {
     "name": "stdout",
     "output_type": "stream",
     "text": [
      "time: 1.47 ms\n"
     ]
    }
   ],
   "source": [
    "def removeDuplicates(self, nums: List[int]) -> int:\n",
    "    \n",
    "    # Case for if there is only one unique element\n",
    "    if len(nums) < 2:\n",
    "        return len(nums)\n",
    "    \n",
    "    current = 0\n",
    "    \n",
    "    # Otherwise ... go through numbers and check for duplicates\n",
    "    for next in range(1, len(nums)):\n",
    "        if nums[next] != nums[current]:\n",
    "        # if the next number is unequal to current number,\n",
    "        # increment the current count (unique elements)\n",
    "            current += 1\n",
    "            nums[current] = nums[next] \n",
    "        # make the current number the next to continue onwards\n",
    "        # in the loop\n",
    "\n",
    "    return current + 1"
   ]
  },
  {
   "cell_type": "markdown",
   "metadata": {},
   "source": [
    "<a id=\"stocks\"></a>\n",
    "### 2. Best Time to Buy and Sell Stock II\n",
    "Say you have an array prices for which the ith element is the price of a given stock on day <i>i</i>.\n",
    "\n",
    "Design an algorithm to find the maximum profit. You may complete as many transactions as you like (i.e., buy one and sell one share of the stock multiple times).\n",
    "\n",
    "<b>Note</b>: You may not engage in multiple transactions at the same time (i.e., you must sell the stock before you buy again).\n",
    "\n",
    "#### Example:\n",
    "```\n",
    "Input: [7,1,5,3,6,4]\n",
    "Output: 7\n",
    "Explanation: Buy on day 2 (price = 1) and sell on day 3 (price = 5), profit = 5-1 = 4. Then buy on day 4 (price = 3) and sell on day 5 (price = 6), profit = 6-3 = 3.\n",
    "```\n",
    "#### Solution:\n",
    "```python\n",
    "def maxProfit(self, prices: List[int]) -> int:\n",
    "        max_profit = 0 \n",
    "        for i in range(1, len(prices)):\n",
    "            if(prices[i]>prices[i-1]):\n",
    "                max_profit += prices[i] - prices[i-1]\n",
    "        return max_profit\n",
    "```"
   ]
  },
  {
   "cell_type": "code",
   "execution_count": 5,
   "metadata": {},
   "outputs": [
    {
     "name": "stdout",
     "output_type": "stream",
     "text": [
      "time: 1.21 ms\n"
     ]
    }
   ],
   "source": [
    "def maxProfit(self, prices: List[int]) -> int:\n",
    "        max_profit = 0 \n",
    "        # initialize max_profit as 0, and then iterate through the list \n",
    "        for i in range(1, len(prices)):\n",
    "            # in the list, if the price is greater than the previous then calculate the diff\n",
    "            # ie. the profit and then append it to the total profit (max_profit)\n",
    "            if(prices[i]>prices[i-1]):\n",
    "                max_profit += prices[i] - prices[i-1]\n",
    "        return max_profit"
   ]
  },
  {
   "cell_type": "markdown",
   "metadata": {},
   "source": [
    "<a id=\"rotatearr\"></a> \n",
    "### 3. Rotate Array\n",
    "Given an array, rotate the array to the right by k steps, where k is non-negative.\n",
    "#### Example:\n",
    "```\n",
    "Input: nums = [1,2,3,4,5,6,7], k = 3\n",
    "Output: [5,6,7,1,2,3,4]\n",
    "Explanation:\n",
    "rotate 1 steps to the right: [7,1,2,3,4,5,6]\n",
    "rotate 2 steps to the right: [6,7,1,2,3,4,5]\n",
    "rotate 3 steps to the right: [5,6,7,1,2,3,4]\n",
    "```\n",
    "#### Solution:\n",
    "```python\n",
    "def rotate(self, nums: List[int], k: int) -> None:\n",
    "    n = len(nums)\n",
    "    nums[:] = nums[n-k:] + nums[:n-k]\n",
    "```"
   ]
  },
  {
   "cell_type": "code",
   "execution_count": 6,
   "metadata": {},
   "outputs": [
    {
     "name": "stdout",
     "output_type": "stream",
     "text": [
      "time: 969 µs\n"
     ]
    }
   ],
   "source": [
    "def rotate(self, nums: List[int], k: int) -> None:\n",
    "    n = len(nums)\n",
    "    nums[:] = nums[n-k:] + nums[:n-k]"
   ]
  },
  {
   "cell_type": "markdown",
   "metadata": {},
   "source": [
    "<a id=\"containsdup\"></a>\n",
    "### 4. Contains Duplicate\n",
    "Given an array of integers, find if the array contains any duplicates.\n",
    "\n",
    "Your function should return true if any value appears at least twice in the array, and it should return false if every element is distinct.\n",
    "\n",
    "#### Solution:\n",
    "```python\n",
    "def containsDuplicate(self, nums: List[int]) -> bool:\n",
    "        n = len(nums)\n",
    "        if n < 2: \n",
    "            return False\n",
    "        nums.sort()\n",
    "        for i in range(n-1):\n",
    "            if nums[i] == nums[i+1]:\n",
    "                return True\n",
    "        return False \n",
    "```"
   ]
  },
  {
   "cell_type": "code",
   "execution_count": 7,
   "metadata": {},
   "outputs": [
    {
     "name": "stdout",
     "output_type": "stream",
     "text": [
      "time: 1.26 ms\n"
     ]
    }
   ],
   "source": [
    "def containsDuplicate(self, nums: List[int]) -> bool:\n",
    "        n = len(nums) \n",
    "        if n < 2: # if n is less than 2, only 1 value- hence no duplicates: False\n",
    "            return False\n",
    "        nums.sort() # sort the list\n",
    "        for i in range(n-1): \n",
    "            if nums[i] == nums[i+1]: # iterate over and check to see if any values match the next value\n",
    "                return True # return True if they do, indicating there's a duplicate\n",
    "        return False # return False otherwise"
   ]
  },
  {
   "cell_type": "markdown",
   "metadata": {},
   "source": [
    "<a id=\"singnum\"></a>\n",
    "### 5. Single Number\n",
    "Given a non-empty array of integers, every element appears <i>twice</i> except for one. Find that single one.\n",
    "#### Solution:\n",
    "```python\n",
    "def singleNumber(self, nums: List[int]) -> int:\n",
    "        lst= []\n",
    "        for i in nums:\n",
    "            if i not in lst:\n",
    "                lst.append(i)\n",
    "            else:\n",
    "                lst.remove(i)\n",
    "        return lst.pop()\n",
    "```"
   ]
  },
  {
   "cell_type": "code",
   "execution_count": 8,
   "metadata": {},
   "outputs": [
    {
     "name": "stdout",
     "output_type": "stream",
     "text": [
      "time: 1.1 ms\n"
     ]
    }
   ],
   "source": [
    "def singleNumber(self, nums: List[int]) -> int:\n",
    "        lst = [] # create list to add non-duplicate values\n",
    "        for i in nums:\n",
    "            if i not in lst: # if the value is not in the list, add it\n",
    "                lst.append(i)\n",
    "            else: # if it already is, remove it (removes it and its duplicate)\n",
    "                lst.remove(i)\n",
    "        return lst.pop() # pop out the remaining values that did not get removed (no dups)"
   ]
  },
  {
   "cell_type": "markdown",
   "metadata": {},
   "source": [
    "### 6. Intersection of Two Arrays II\n",
    "Given two arrays, write a function to compute their intersection.\n",
    "\n",
    "#### Example 1:\n",
    "```\n",
    "Input: nums1 = [1,2,2,1], nums2 = [2,2]\n",
    "Output: [2,2]\n",
    "```\n",
    "#### Solution:\n",
    "\n",
    "```python\n",
    "def intersect(self, nums1: List[int], nums2: List[int]) -> List[int]:\n",
    "    nums1_count = {} \n",
    "    for i in nums1: \n",
    "        if i not in nums1_count: \n",
    "            nums1_count[i] = 0\n",
    "        nums1_count[i] += 1\n",
    "    output = []\n",
    "    for i in nums2:\n",
    "        if i in nums1_count and nums1_count[i] > 0:\n",
    "            nums1_count[i] -= 1\n",
    "            output.append(i)\n",
    "    return output\n",
    "```"
   ]
  },
  {
   "cell_type": "code",
   "execution_count": 9,
   "metadata": {},
   "outputs": [
    {
     "name": "stdout",
     "output_type": "stream",
     "text": [
      "time: 1.66 ms\n"
     ]
    }
   ],
   "source": [
    "def intersect(self, nums1: List[int], nums2: List[int]) -> List[int]:\n",
    "    nums1_count = {} # map number to count\n",
    "    \n",
    "    for i in nums1: # iterate over nums1\n",
    "        if i not in nums1_count: # if element not counted, add as 0\n",
    "            nums1_count[i] = 0\n",
    "        nums1_count[i] += 1 # counted, +1 count \n",
    "    \n",
    "    output = [] # output list for duplicates\n",
    "    \n",
    "    for i in nums2: # iterate over nums2\n",
    "        # check to see if the element present and has been counted\n",
    "        if i in nums1_count and nums1_count[i] > 0:\n",
    "            nums1_count[i] -= 1 # decrease the count by 1, as it\n",
    "            # has already been counted and added to output\n",
    "            output.append(i)\n",
    "    return output # return output\n",
    "    "
   ]
  },
  {
   "cell_type": "markdown",
   "metadata": {},
   "source": [
    "### 7. Plus One\n",
    "Given a non-empty array of digits representing a non-negative integer, plus one to the integer.\n",
    "\n",
    "The digits are stored such that the most significant digit is at the head of the list, and each element in the array contain a single digit.\n",
    "\n",
    "You may assume the integer does not contain any leading zero, except the number 0 itself.\n",
    "\n",
    "#### Solution:\n",
    "```python\n",
    "new = []\n",
    "        str_digits = ''.join(str(i) for i in digits)\n",
    "        added = int(str_digits) + 1\n",
    "        str_digits = str(added)\n",
    "        for i in str_digits:\n",
    "            new.append(int(i))\n",
    "        return new\n",
    "```"
   ]
  },
  {
   "cell_type": "code",
   "execution_count": 10,
   "metadata": {},
   "outputs": [
    {
     "name": "stdout",
     "output_type": "stream",
     "text": [
      "time: 1.14 ms\n"
     ]
    }
   ],
   "source": [
    "def plusOne(self, digits: List[int]) -> List[int]:\n",
    "    new = [] # create an output list\n",
    "    str_digits = ''.join(str(i) for i in digits)\n",
    "    # join all the elements of list into one string\n",
    "    added = int(str_digits) + 1 # convert string to int, add 1 to int\n",
    "    str_digits = str(added) # convert back to string\n",
    "    for i in str_digits: # iterate over string\n",
    "        new.append(int(i)) # append int with newly added at end\n",
    "    return new # return the new list (with integers) "
   ]
  },
  {
   "cell_type": "markdown",
   "metadata": {},
   "source": [
    "### 8. Move Zeroes\n",
    "Given an array nums, write a function to move all 0's to the end of it while maintaining the relative order of the non-zero elements.\n",
    "\n",
    "#### Solution:\n",
    "```python\n",
    "def moveZeroes(self, nums: List[int]) -> None:\n",
    "        i = 0\n",
    "        end = len(nums)\n",
    "        while i < end:\n",
    "            if nums[i] == 0:\n",
    "                del nums[i]\n",
    "                nums.append(0)\n",
    "                end -= 1\n",
    "            else:\n",
    "                i+=1\n",
    "```\n",
    "    "
   ]
  },
  {
   "cell_type": "code",
   "execution_count": 5,
   "metadata": {},
   "outputs": [],
   "source": [
    "def moveZeroes(self, nums: List[int]) -> None:\n",
    "        i = 0 # set i as 0 to begin\n",
    "        end = len(nums) # put a pointer on the end value of list\n",
    "        while i < end:\n",
    "            if nums[i] == 0: # check if the item is 0\n",
    "                del nums[i] # delete that item\n",
    "                nums.append(0) # append zero at the end\n",
    "                end -= 1 # decrement the end (move pointer back)\n",
    "            else:\n",
    "                i+=1"
   ]
  },
  {
   "cell_type": "markdown",
   "metadata": {},
   "source": [
    "### 9. Two Sum\n",
    "Given an array of integers, return indices of the two numbers such that they add up to a specific target.\n",
    "\n",
    "You may assume that each input would have exactly one solution, and you may not use the same element twice.\n",
    "\n",
    "#### Solution:\n",
    "```python\n",
    "def twoSum(self, nums: List[int], target: int) -> List[int]:\n",
    "        for i in range(len(nums)-1):\n",
    "            for j in range(i+1,len(nums)):\n",
    "                if (nums[i]+nums[j]) == target:\n",
    "                    return([i,j])\n",
    "```\n"
   ]
  },
  {
   "cell_type": "code",
   "execution_count": 12,
   "metadata": {},
   "outputs": [
    {
     "name": "stdout",
     "output_type": "stream",
     "text": [
      "time: 1.35 ms\n"
     ]
    }
   ],
   "source": [
    "def twoSum(self, nums: List[int], target: int) -> List[int]:\n",
    "        for i in range(len(nums)-1):\n",
    "            for j in range(i+1,len(nums)):\n",
    "                if (nums[i]+nums[j]) == target:\n",
    "                    return([i,j])"
   ]
  },
  {
   "cell_type": "markdown",
   "metadata": {},
   "source": [
    "### 10. Valid Sudoku"
   ]
  },
  {
   "cell_type": "markdown",
   "metadata": {},
   "source": [
    "### 11. Rotate Image\n"
   ]
  },
  {
   "cell_type": "markdown",
   "metadata": {},
   "source": [
    "# Strings"
   ]
  },
  {
   "cell_type": "markdown",
   "metadata": {},
   "source": [
    "### 1. Reverse String\n",
    "Write a function that reverses a string. The input string is given as an array of characters char[].\n",
    "Do not allocate extra space for another array, you must do this by modifying the input array in-place with O(1) extra memory.\n",
    "\n",
    "#### Example:\n",
    "```python\n",
    "Input: [\"h\",\"e\",\"l\",\"l\",\"o\"]\n",
    "Output: [\"o\",\"l\",\"l\",\"e\",\"h\"]\n",
    "```\n",
    "#### Solution:\n",
    "```python\n",
    "def reverseString(self, s: List[str]) -> None:\n",
    "        s.reverse()\n",
    "```\n",
    "\n",
    "#### Non-cheeky Two-pointer Method:\n",
    "```python\n",
    "def reverseString(self, s):\n",
    "        left, right = 0, len(s) - 1\n",
    "        while left < right:\n",
    "            s[left], s[right] = s[right], s[left]\n",
    "            left, right = left + 1, right - 1\n",
    "```"
   ]
  },
  {
   "cell_type": "markdown",
   "metadata": {},
   "source": [
    "# 60 Qs to Solve before Coding Interview"
   ]
  },
  {
   "cell_type": "markdown",
   "metadata": {},
   "source": [
    "## 1. Linked List Cycle\n",
    "https://leetcode.com/problems/linked-list-cycle/\n",
    "\n",
    "Given head, the head of a linked list, determine if the linked list has a cycle in it.\n",
    "\n",
    "There is a cycle in a linked list if there is some node in the list that can be reached again by continuously following the next pointer. Internally, pos is used to denote the index of the node that tail's next pointer is connected to. Note that pos is not passed as a parameter.\n",
    "\n",
    "Return true if there is a cycle in the linked list. Otherwise, return false."
   ]
  },
  {
   "cell_type": "code",
   "execution_count": null,
   "metadata": {
    "scrolled": false
   },
   "outputs": [],
   "source": [
    "# Definition for singly-linked list.\n",
    "# class ListNode:\n",
    "#     def __init__(self, x):\n",
    "#         self.val = x\n",
    "#         self.next = None\n",
    "\n",
    "class Solution:\n",
    "    def hasCycle(self, head: ListNode) -> bool:\n",
    "        # loop through with fast & slow pointers and check if they meet\n",
    "        fast = slow = head\n",
    "        while fast and fast.next:\n",
    "            fast = fast.next.next\n",
    "            slow = slow.next\n",
    "            if slow == fast:\n",
    "                return True\n",
    "        return False"
   ]
  },
  {
   "cell_type": "markdown",
   "metadata": {},
   "source": [
    "## 2. Linked List Cycle II\n",
    "https://leetcode.com/problems/linked-list-cycle-ii/ <br>\n",
    "Given a linked list, return the node where the cycle begins. If there is no cycle, return null.\n",
    "\n",
    "There is a cycle in a linked list if there is some node in the list that can be reached again by continuously following the next pointer. Internally, pos is used to denote the index of the node that tail's next pointer is connected to. Note that pos is not passed as a parameter.\n",
    "\n",
    "Notice that you should not modify the linked list."
   ]
  },
  {
   "cell_type": "code",
   "execution_count": null,
   "metadata": {},
   "outputs": [],
   "source": [
    "# Definition for singly-linked list.\n",
    "# class ListNode:\n",
    "#     def __init__(self, x):\n",
    "#         self.val = x\n",
    "#         self.next = None\n",
    "\n",
    "class Solution:\n",
    "    def detectCycle(self, head: ListNode) -> ListNode:\n",
    "        fast = slow = head\n",
    "        while fast and fast.next:\n",
    "            fast = fast.next.next\n",
    "            slow = slow.next\n",
    "            if slow == fast:\n",
    "                break # detected cycle\n",
    "        else:\n",
    "            return None\n",
    "        while head != slow: # while head isn't slow\n",
    "            slow = slow.next # advance both head and slow\n",
    "            head = head.next\n",
    "        return slow # return slow once head and slow are the same"
   ]
  },
  {
   "cell_type": "code",
   "execution_count": null,
   "metadata": {},
   "outputs": [],
   "source": []
  },
  {
   "cell_type": "code",
   "execution_count": null,
   "metadata": {},
   "outputs": [],
   "source": []
  },
  {
   "cell_type": "code",
   "execution_count": null,
   "metadata": {},
   "outputs": [],
   "source": []
  },
  {
   "cell_type": "code",
   "execution_count": null,
   "metadata": {},
   "outputs": [],
   "source": []
  },
  {
   "cell_type": "code",
   "execution_count": null,
   "metadata": {
    "collapsed": true
   },
   "outputs": [],
   "source": []
  }
 ],
 "metadata": {
  "kernelspec": {
   "display_name": "Python 3",
   "language": "python",
   "name": "python3"
  },
  "language_info": {
   "codemirror_mode": {
    "name": "ipython",
    "version": 3
   },
   "file_extension": ".py",
   "mimetype": "text/x-python",
   "name": "python",
   "nbconvert_exporter": "python",
   "pygments_lexer": "ipython3",
   "version": "3.7.6"
  }
 },
 "nbformat": 4,
 "nbformat_minor": 2
}
