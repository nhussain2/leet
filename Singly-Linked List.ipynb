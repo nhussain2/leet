{
 "cells": [
  {
   "cell_type": "code",
   "execution_count": 6,
   "metadata": {},
   "outputs": [
    {
     "name": "stdout",
     "output_type": "stream",
     "text": [
      "C\n",
      "A\n",
      "E\n",
      "B\n"
     ]
    }
   ],
   "source": [
    "# Singly Linked List Implementation below:\n",
    "\n",
    "class Node:\n",
    "    def __init__(self, data):\n",
    "        self.data = data\n",
    "        self.next = None\n",
    "        \n",
    "class LinkedList:\n",
    "    def __init__(self):\n",
    "        self.head = None\n",
    "        \n",
    "    # Print the list out   \n",
    "    def print_list(self):\n",
    "        cur_node = self.head # set current node as head of the list\n",
    "        while cur_node: # while it is not None\n",
    "            print(cur_node.data) # print each current node's data\n",
    "            cur_node = cur_node.next # move to the next current node\n",
    "        \n",
    "    # Append a new node to the end of the Linked List\n",
    "    def append(self,data):\n",
    "        new_node = Node(data) # create new_node that we will be appending\n",
    "        # if list is empty, head will be None\n",
    "        if self.head is None:\n",
    "            self.head = new_node # make the head the new_node\n",
    "            return\n",
    "        \n",
    "        last_node = self.head # initially at the start of the list, at the head\n",
    "        # we want to move through the list\n",
    "        while last_node.next: # while the next pointer does not point to null\n",
    "            last_node = last_node.next # move the last_node to the right\n",
    "            # once this loop ends, it will point to the last node\n",
    "        last_node.next = new_node # the next node after the last will be the new node, appends\n",
    "    \n",
    "    # Prepend a new node to the beginning of the Linked List\n",
    "    def prepend(self,data):\n",
    "        new_node = Node(data)\n",
    "        new_node.next = self.head # new node points to the current head of the list\n",
    "        self.head = new_node # the new node is now the head of the list\n",
    "        \n",
    "    # Insert after a node in the Linked List\n",
    "    def insert_after_node(self, prev_node, data):\n",
    "        if not prev_node: # if previous node not in list, return Error\n",
    "            return(\"Not in the list\")\n",
    "        new_node = Node(data)\n",
    "        new_node.next = prev_node.next # the next of new node points to what the prev node's next points to\n",
    "        prev_node.next = new_node # the prev node's next now points to the new node\n",
    "        \n",
    "         \n",
    "        \n",
    "llist = LinkedList()\n",
    "llist.append(\"A\")\n",
    "llist.append(\"B\")\n",
    "llist.prepend(\"C\")\n",
    "llist.insert_after_node(llist.head.next,\"E\")\n",
    "llist.print_list()\n"
   ]
  },
  {
   "cell_type": "code",
   "execution_count": null,
   "metadata": {},
   "outputs": [],
   "source": []
  }
 ],
 "metadata": {
  "kernelspec": {
   "display_name": "Python 3",
   "language": "python",
   "name": "python3"
  },
  "language_info": {
   "codemirror_mode": {
    "name": "ipython",
    "version": 3
   },
   "file_extension": ".py",
   "mimetype": "text/x-python",
   "name": "python",
   "nbconvert_exporter": "python",
   "pygments_lexer": "ipython3",
   "version": "3.7.6"
  }
 },
 "nbformat": 4,
 "nbformat_minor": 4
}
